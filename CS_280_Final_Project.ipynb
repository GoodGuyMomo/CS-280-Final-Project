{
  "nbformat": 4,
  "nbformat_minor": 0,
  "metadata": {
    "colab": {
      "provenance": []
    },
    "kernelspec": {
      "name": "python3",
      "display_name": "Python 3"
    },
    "language_info": {
      "name": "python"
    }
  },
  "cells": [
    {
      "cell_type": "markdown",
      "source": [
        "# **INSERT PROJECT TITLE HERE**\n",
        "##CS-280 Introduction to Data Science Final Project\n",
        "Contributors: Mohammed Asad | Nathaniel Gordon | Brendan Hasara\n",
        "\n",
        "\n"
      ],
      "metadata": {
        "id": "iiHB0n-ww7vd"
      }
    },
    {
      "cell_type": "markdown",
      "source": [
        "\n",
        "## **Purpose**\n",
        "The purpose of this project is to achieve a deeper and more meaningful understanding of data manipulation, visualization, and staistical analysis."
      ],
      "metadata": {
        "id": "CiXRwo29vThQ"
      }
    },
    {
      "cell_type": "markdown",
      "source": [
        "## **The Questions That Needs Answering**\n",
        "\n",
        "When looking at this dataset, we came to an overarching question: How do the variations in socioeconomic status influence the perception of trust and happiness throughout different countries?\n",
        "\n",
        "To answer this, we needed to ask a few deeoer questions to paint a more in-depth understanding of the overarching question at hand.\n",
        "\n",
        "\n",
        "\n",
        "1. Does the average GDP per capita have a direct relationship with the perceived happiness (life ladder) of that country's population?\n",
        "2. Is there an overall significant cause/effect relationship between social support and generosity?\n",
        "3. Does freedom to make life choices influence the confidence placed in each country's national government?\n",
        "4. Is there a need for a higher GDP per capita in order to expect a higher health life expectancy at birth?\n",
        "5. On a global scale, are people more happy or sad over the years?\n",
        "\n"
      ],
      "metadata": {
        "id": "_zAq9_8lxI5I"
      }
    },
    {
      "cell_type": "markdown",
      "source": [
        "## **Important Terminology**\n",
        "\n",
        "..."
      ],
      "metadata": {
        "id": "junAT1xiEpyr"
      }
    },
    {
      "cell_type": "code",
      "source": [],
      "metadata": {
        "id": "rIe9drDpw2xQ"
      },
      "execution_count": null,
      "outputs": []
    }
  ]
}